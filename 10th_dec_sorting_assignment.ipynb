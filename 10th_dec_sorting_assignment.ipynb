{
  "nbformat": 4,
  "nbformat_minor": 0,
  "metadata": {
    "colab": {
      "provenance": []
    },
    "kernelspec": {
      "name": "python3",
      "display_name": "Python 3"
    },
    "language_info": {
      "name": "python"
    }
  },
  "cells": [
    {
      "cell_type": "code",
      "execution_count": null,
      "metadata": {
        "colab": {
          "base_uri": "https://localhost:8080/",
          "height": 53
        },
        "id": "UvYlV5tq-MWp",
        "outputId": "71271896-1d91-418e-d8ae-8e7014ce9111"
      },
      "outputs": [
        {
          "output_type": "execute_result",
          "data": {
            "text/plain": [
              "'Problem 1.Given an array of n numbers, give an algorithm which gives the element appearing maximum \\nnumber of times?'"
            ],
            "application/vnd.google.colaboratory.intrinsic+json": {
              "type": "string"
            }
          },
          "metadata": {},
          "execution_count": 2
        }
      ],
      "source": [
        "\"\"\"Problem 1.Given an array of n numbers, give an algorithm which gives the element appearing maximum\n",
        "number of times?\"\"\""
      ]
    },
    {
      "cell_type": "code",
      "source": [
        "def sort_arr(arr):\n",
        "    for i in range(len(arr)):\n",
        "        mini=i\n",
        "        for j in range(i+1,len(arr)):\n",
        "            if arr[j]<arr[i]:\n",
        "                mini=j\n",
        "                arr[i],arr[mini]=arr[mini],arr[i]\n",
        "def most_frequent_element(arr):\n",
        "    sort_arr(arr)\n",
        "    max_count=1\n",
        "    current_count=1\n",
        "    most_frequent=arr[0]\n",
        "    for i in range(1,len(arr)):\n",
        "        if arr[i]==arr[i-1]:\n",
        "            current_count+=1\n",
        "        else:\n",
        "            if current_count>max_count:\n",
        "                max_count=current_count\n",
        "                most_frequent=arr[i-1]\n",
        "                current_count=1\n",
        "        if current_count>max_count:\n",
        "            most_frequent=arr[-1]\n",
        "\n",
        "    return most_frequent\n",
        "\n",
        "arr=[4,2,8,3,8,8,4,4,2,8,4,4]\n",
        "result=most_frequent_element(arr)\n",
        "print(\"the most frequent element is \", result)"
      ],
      "metadata": {
        "colab": {
          "base_uri": "https://localhost:8080/"
        },
        "id": "8HGD3otB-OGs",
        "outputId": "97a2be7c-273e-41cc-c44f-82576319f3e5"
      },
      "execution_count": null,
      "outputs": [
        {
          "output_type": "stream",
          "name": "stdout",
          "text": [
            "the most frequent element is  4\n"
          ]
        }
      ]
    },
    {
      "cell_type": "code",
      "source": [
        "\"\"\"Problem 2 : We are given a list of n-1 integers and these integers are in the range of 1 to n . There are no\n",
        "duplicates in the list. One of the integers is missing in the list. Give an algorithm to find that element Ex:\n",
        "[1,2,4,6,3,7,8] 5 is the missing num.\"\"\""
      ],
      "metadata": {
        "colab": {
          "base_uri": "https://localhost:8080/",
          "height": 70
        },
        "id": "8Pdr6zRd_T-6",
        "outputId": "f7b7b96e-c710-47bc-96b2-ed57907ebeaf"
      },
      "execution_count": null,
      "outputs": [
        {
          "output_type": "execute_result",
          "data": {
            "text/plain": [
              "'Problem 2 : We are given a list of n-1 integers and these integers are in the range of 1 to n . There are no \\nduplicates in the list. One of the integers is missing in the list. Give an algorithm to find that element Ex: \\n[1,2,4,6,3,7,8] 5 is the missing num.'"
            ],
            "application/vnd.google.colaboratory.intrinsic+json": {
              "type": "string"
            }
          },
          "metadata": {},
          "execution_count": 4
        }
      ]
    },
    {
      "cell_type": "code",
      "source": [
        "def find_missing_element(arr):\n",
        "    arr.sort()\n",
        "    for i in range(len(arr)):\n",
        "        if arr[i]!=i+1:\n",
        "            return i+1\n",
        "    return len(arr)+1\n",
        "arr=[1,2,4,6,3,7,8]\n",
        "result=find_missing_element(arr)\n",
        "print(\"the missing element is\",result)"
      ],
      "metadata": {
        "colab": {
          "base_uri": "https://localhost:8080/"
        },
        "id": "qPoAg-D-_ker",
        "outputId": "3ad757ee-ddd1-4738-ee22-ba1974c27459"
      },
      "execution_count": null,
      "outputs": [
        {
          "output_type": "stream",
          "name": "stdout",
          "text": [
            "the missing element is 5\n"
          ]
        }
      ]
    },
    {
      "cell_type": "code",
      "source": [
        "\"\"\"Problem 3 : Given an array of n positive numbers. All numbers occurs even number of times except 1 which\n",
        "occurs odd number of times. Find that number in O(n) time and O(1) space. Ex: [1,2,3,2,3,1,3]. 3 is repeats odd\n",
        "times.\"\"\""
      ],
      "metadata": {
        "colab": {
          "base_uri": "https://localhost:8080/",
          "height": 70
        },
        "id": "Zrha7qAq_ouJ",
        "outputId": "2ed7a3d9-78f5-467c-d1a7-919097b20ede"
      },
      "execution_count": null,
      "outputs": [
        {
          "output_type": "execute_result",
          "data": {
            "text/plain": [
              "'Problem 3 : Given an array of n positive numbers. All numbers occurs even number of times except 1 which \\noccurs odd number of times. Find that number in O(n) time and O(1) space. Ex: [1,2,3,2,3,1,3]. 3 is repeats odd \\ntimes.'"
            ],
            "application/vnd.google.colaboratory.intrinsic+json": {
              "type": "string"
            }
          },
          "metadata": {},
          "execution_count": 6
        }
      ]
    },
    {
      "cell_type": "code",
      "source": [
        "def find_odd_occurrence(arr):\n",
        "  result=0\n",
        "  for num in arr:\n",
        "    result^=num\n",
        "  return result\n",
        "arr=[1,2,3,2,3,1,3]\n",
        "print(find_odd_occurrence(arr))"
      ],
      "metadata": {
        "colab": {
          "base_uri": "https://localhost:8080/"
        },
        "id": "5rGYU1dA_ste",
        "outputId": "5f249457-e2ba-4813-88b3-11f4bac0bb50"
      },
      "execution_count": null,
      "outputs": [
        {
          "output_type": "stream",
          "name": "stdout",
          "text": [
            "3\n"
          ]
        }
      ]
    },
    {
      "cell_type": "code",
      "source": [
        "\"\"\"Problem 4 : Given an array of n elements. Find two elements in the array such that their sum is equal to given\n",
        "element K\"\"\""
      ],
      "metadata": {
        "colab": {
          "base_uri": "https://localhost:8080/",
          "height": 53
        },
        "id": "Ktond4e0_yHV",
        "outputId": "dc64cae1-1c80-495c-f732-9844523590e1"
      },
      "execution_count": null,
      "outputs": [
        {
          "output_type": "execute_result",
          "data": {
            "text/plain": [
              "'Problem 4 : Given an array of n elements. Find two elements in the array such that their sum is equal to given \\nelement K'"
            ],
            "application/vnd.google.colaboratory.intrinsic+json": {
              "type": "string"
            }
          },
          "metadata": {},
          "execution_count": 9
        }
      ]
    },
    {
      "cell_type": "code",
      "source": [
        "def find_pair_with_sum(arr,k):\n",
        "  seen=set()\n",
        "  for num in arr:\n",
        "    complement=k-num\n",
        "    if complement in seen:\n",
        "      return (num,complement)\n",
        "    seen.add(num)\n",
        "  return None\n",
        "arr=[1,2,3,4,5]\n",
        "find_pair_with_sum(arr,8)"
      ],
      "metadata": {
        "colab": {
          "base_uri": "https://localhost:8080/"
        },
        "id": "IQ6NDrWuBJ7l",
        "outputId": "2b2c29ba-b46a-412d-dae2-bfadfc23f259"
      },
      "execution_count": null,
      "outputs": [
        {
          "output_type": "execute_result",
          "data": {
            "text/plain": [
              "(5, 3)"
            ]
          },
          "metadata": {},
          "execution_count": 11
        }
      ]
    },
    {
      "cell_type": "code",
      "source": [
        "\"\"\"Problem 5 : Given an array of both positive and negative numbers, find two numbers such that their sum is\n",
        "closest to 0. Ex: [ 1 ,60 ,-10, 70, -80,85]. Ans : -80,85.\"\"\""
      ],
      "metadata": {
        "id": "gx1SNLC8DvS6",
        "colab": {
          "base_uri": "https://localhost:8080/",
          "height": 53
        },
        "outputId": "5de5423e-1623-40c7-d22f-fb46c438d619"
      },
      "execution_count": null,
      "outputs": [
        {
          "output_type": "execute_result",
          "data": {
            "text/plain": [
              "'Problem 5 : Given an array of both positive and negative numbers, find two numbers such that their sum is \\nclosest to 0. Ex: [ 1 ,60 ,-10, 70, -80,85]. Ans : -80,85.'"
            ],
            "application/vnd.google.colaboratory.intrinsic+json": {
              "type": "string"
            }
          },
          "metadata": {},
          "execution_count": 1
        }
      ]
    },
    {
      "cell_type": "code",
      "source": [
        "def closest_to_zero(arr):\n",
        "  arr.sort()\n",
        "  closest_sum=float('inf')\n",
        "  result_pair=None\n",
        "  left,right=0,len(arr)-1\n",
        "  while left<right:\n",
        "    current_sum=arr[left]+arr[right]\n",
        "    if abs(current_sum)<(closest_sum):\n",
        "      closest_sum=abs(current_sum)\n",
        "      result_pair=(arr[left],arr[right])\n",
        "    if current_sum<0:\n",
        "      left+=1\n",
        "    else:\n",
        "      right-=1\n",
        "  return result_pair\n",
        "\n",
        "arr=[1,60,-10,70,-80,85]\n",
        "closest_to_zero(arr)"
      ],
      "metadata": {
        "colab": {
          "base_uri": "https://localhost:8080/"
        },
        "id": "-SgoOGaYLBfq",
        "outputId": "a01beb76-414b-4376-e906-e6d38bf9ed70"
      },
      "execution_count": null,
      "outputs": [
        {
          "output_type": "execute_result",
          "data": {
            "text/plain": [
              "(-80, 85)"
            ]
          },
          "metadata": {},
          "execution_count": 4
        }
      ]
    },
    {
      "cell_type": "code",
      "source": [
        "\"\"\"Problem 6 : Given an array of n elements . Find three elements such that their sum is equal to the given\n",
        "number.\"\"\""
      ],
      "metadata": {
        "id": "jnTnDSWEbtHy",
        "colab": {
          "base_uri": "https://localhost:8080/",
          "height": 36
        },
        "outputId": "446e3b39-be81-4416-b577-da0d3d5c3332"
      },
      "execution_count": null,
      "outputs": [
        {
          "output_type": "execute_result",
          "data": {
            "text/plain": [
              "'Problem 6 : Given an array of n elements . Find three elements such that their sum is equal to the given \\nnumber.'"
            ],
            "application/vnd.google.colaboratory.intrinsic+json": {
              "type": "string"
            }
          },
          "metadata": {},
          "execution_count": 1
        }
      ]
    },
    {
      "cell_type": "code",
      "source": [
        "def find_three_element(array,target_sum):\n",
        "  array.sort()\n",
        "  for i in range(len(array)-2):\n",
        "    left,right=i+1,len(array)-1\n",
        "    while left<right:\n",
        "      current_sum=array[i]+array[left]+array[right]\n",
        "      if current_sum==target_sum:\n",
        "        return array[i],array[left],array[right]\n",
        "      elif current_sum<target_sum:\n",
        "        left+=1\n",
        "      else:\n",
        "        right-=1\n",
        "  return None\n",
        "array=[1,3,2,4,5,7]\n",
        "target_sum=10\n",
        "print(find_three_element(array,target_sum))\n",
        "\n"
      ],
      "metadata": {
        "colab": {
          "base_uri": "https://localhost:8080/"
        },
        "id": "VqQcWQPSjA2H",
        "outputId": "531a519f-554a-4e8a-98b4-5c72f5f48721"
      },
      "execution_count": null,
      "outputs": [
        {
          "output_type": "stream",
          "name": "stdout",
          "text": [
            "(1, 2, 7)\n"
          ]
        }
      ]
    },
    {
      "cell_type": "code",
      "source": [
        "\"\"\"Problem 7 : Given an array of n elements . Find three elements i, j, k in the array such that\n",
        "\n",
        "i * i + j * j = k*k.\"\"\""
      ],
      "metadata": {
        "colab": {
          "base_uri": "https://localhost:8080/",
          "height": 36
        },
        "id": "81yF4WpLmX4u",
        "outputId": "4926d697-2299-49b2-a292-fa0c17d3e72f"
      },
      "execution_count": null,
      "outputs": [
        {
          "output_type": "execute_result",
          "data": {
            "text/plain": [
              "'Problem 7 : Given an array of n elements . Find three elements i, j, k in the array such that\\n\\ni * i + j * j = k*k.'"
            ],
            "application/vnd.google.colaboratory.intrinsic+json": {
              "type": "string"
            }
          },
          "metadata": {},
          "execution_count": 9
        }
      ]
    },
    {
      "cell_type": "code",
      "source": [
        "def find_pythagorean_triplet(arr):\n",
        "  arr.sort()\n",
        "  n=len(arr)\n",
        "  for i in range(n-2):\n",
        "    for j in range(i+1,n-1):\n",
        "      for k in range(j+1,n):\n",
        "        if arr[i]**2+arr[j]**2==arr[k]**2:\n",
        "          return arr[i],arr[j],arr[k]\n",
        "  return None\n",
        "arr=[3,4,5,6,8,10]\n",
        "find_pythagorean_triplet(arr)\n"
      ],
      "metadata": {
        "colab": {
          "base_uri": "https://localhost:8080/"
        },
        "id": "DpHgtfB8tVG_",
        "outputId": "0f7a4bac-615c-48f6-9474-c58f602853df"
      },
      "execution_count": null,
      "outputs": [
        {
          "output_type": "execute_result",
          "data": {
            "text/plain": [
              "(3, 4, 5)"
            ]
          },
          "metadata": {},
          "execution_count": 11
        }
      ]
    },
    {
      "cell_type": "code",
      "source": [
        "\"\"\"Problem 8 : An element is a majority if it appears more than n/2 times. Give an algorithm takes an array of n\n",
        "element as argument and identifies a majority (if it exists).\"\"\""
      ],
      "metadata": {
        "colab": {
          "base_uri": "https://localhost:8080/",
          "height": 36
        },
        "id": "5gy0kSyIvxxJ",
        "outputId": "ff7317a6-2755-43a3-82e2-f7c53bbec1dd"
      },
      "execution_count": null,
      "outputs": [
        {
          "output_type": "execute_result",
          "data": {
            "text/plain": [
              "'Problem 8 : An element is a majority if it appears more than n/2 times. Give an algorithm takes an array of n \\nelement as argument and identifies a majority (if it exists).'"
            ],
            "application/vnd.google.colaboratory.intrinsic+json": {
              "type": "string"
            }
          },
          "metadata": {},
          "execution_count": 12
        }
      ]
    },
    {
      "cell_type": "code",
      "source": [
        "def find_majority(arr):\n",
        "  arr.sort()\n",
        "  n=len(arr)\n",
        "  candidate=arr[n//2]\n",
        "  count=arr.count(candidate)\n",
        "  if count>n//2:\n",
        "    return candidate\n",
        "  else:\n",
        "    return None\n",
        "\n",
        "arr=[1,2,2,2,2,3,3]\n",
        "print(find_majority(arr))"
      ],
      "metadata": {
        "colab": {
          "base_uri": "https://localhost:8080/"
        },
        "id": "HUnYdcgRwHuZ",
        "outputId": "7caaab59-ff10-4886-966b-3ea2963f82b9"
      },
      "execution_count": null,
      "outputs": [
        {
          "output_type": "stream",
          "name": "stdout",
          "text": [
            "2\n"
          ]
        }
      ]
    },
    {
      "cell_type": "code",
      "source": [
        "\"\"\"Problem 9 : Given n × n matrix, and in each row all 1’s are followed by 0’s. Find the row with the maximum\n",
        "number of 0’s.\"\"\""
      ],
      "metadata": {
        "colab": {
          "base_uri": "https://localhost:8080/",
          "height": 36
        },
        "id": "ZBLDTLoXw9zU",
        "outputId": "e813f0be-6561-4a46-baec-e10210702d36"
      },
      "execution_count": null,
      "outputs": [
        {
          "output_type": "execute_result",
          "data": {
            "text/plain": [
              "'Problem 9 : Given n × n matrix, and in each row all 1’s are followed by 0’s. Find the row with the maximum \\nnumber of 0’s.'"
            ],
            "application/vnd.google.colaboratory.intrinsic+json": {
              "type": "string"
            }
          },
          "metadata": {},
          "execution_count": 19
        }
      ]
    },
    {
      "cell_type": "code",
      "source": [
        "def max_zero_row(matrix):\n",
        "  max_zero_row=-1\n",
        "  max_zero_count=-1\n",
        "  for i in range(len(matrix)):\n",
        "    zero_count=matrix[i].count(0)\n",
        "    if zero_count>max_zero_count:\n",
        "      max_zero_count=zero_count\n",
        "      max_zero_row=i\n",
        "\n",
        "  return max_zero_row\n",
        "  matrix=[\n",
        "    [1,1,1,0,0],\n",
        "    [1,1,0,0,0],\n",
        "    [1,0,0,0,0],\n",
        "    [1,1,1,0,0],\n",
        "    [1,1,1,0,0]\n",
        "]\n",
        "result=max_zero_row(matrix)\n",
        "print(\"row with maximum no. of zero is\",result)"
      ],
      "metadata": {
        "id": "3oiuo0h293VI",
        "colab": {
          "base_uri": "https://localhost:8080/"
        },
        "outputId": "318dd0e4-ad03-4573-f598-fdf0612f7bc8"
      },
      "execution_count": 6,
      "outputs": [
        {
          "output_type": "stream",
          "name": "stdout",
          "text": [
            "row with maximum no. of zero is 2\n"
          ]
        }
      ]
    },
    {
      "cell_type": "code",
      "source": [
        "\"\"\"Problem 10 : Sort an array of 0’s, 1’s and 2’s [or R’s, G’s and B’s]: Given an array A[] consisting of 0’s, 1’s and\n",
        "2’s, give an algorithm for sorting A[].The algorithm should put all 0’s first, then all 1’s and finally all 2’s at the\n",
        "end. Example Input = {0,1,1,0,1,2,1,2,0,0,0,1}, Output = {0,0,0,0,0,1,1,1,1,1,2,2}\"\"\""
      ],
      "metadata": {
        "colab": {
          "base_uri": "https://localhost:8080/",
          "height": 53
        },
        "id": "3wBFLX2E7yFz",
        "outputId": "2f8a9e88-a21b-49d1-ca56-3225bbe7ad0f"
      },
      "execution_count": 7,
      "outputs": [
        {
          "output_type": "execute_result",
          "data": {
            "text/plain": [
              "'Problem 10 : Sort an array of 0’s, 1’s and 2’s [or R’s, G’s and B’s]: Given an array A[] consisting of 0’s, 1’s and \\n2’s, give an algorithm for sorting A[].The algorithm should put all 0’s first, then all 1’s and finally all 2’s at the \\nend. Example Input = {0,1,1,0,1,2,1,2,0,0,0,1}, Output = {0,0,0,0,0,1,1,1,1,1,2,2}'"
            ],
            "application/vnd.google.colaboratory.intrinsic+json": {
              "type": "string"
            }
          },
          "metadata": {},
          "execution_count": 7
        }
      ]
    },
    {
      "cell_type": "code",
      "source": [
        "def sort012(arr):\n",
        "  low=0\n",
        "  mid=0\n",
        "  high=len(arr)-1\n",
        "  while mid<=high:\n",
        "    if arr[mid]==0:\n",
        "      arr[low],arr[mid]=arr[mid],arr[low]\n",
        "      low+=1\n",
        "      mid+=1\n",
        "    elif arr[mid]==1:\n",
        "      mid+=1\n",
        "    else:\n",
        "      arr[mid],arr[high]=arr[high],arr[mid]\n",
        "      high-=1\n",
        "\n",
        "arr=[0,1,1,0,1,2,1,2,0,0,0,1]\n",
        "sort012(arr)\n",
        "print(arr)"
      ],
      "metadata": {
        "colab": {
          "base_uri": "https://localhost:8080/"
        },
        "id": "J-hegtsn8s0I",
        "outputId": "cb7d9dfa-ac27-409d-cb1b-8893d22fe7a4"
      },
      "execution_count": 8,
      "outputs": [
        {
          "output_type": "stream",
          "name": "stdout",
          "text": [
            "[0, 0, 0, 0, 0, 1, 1, 1, 1, 1, 2, 2]\n"
          ]
        }
      ]
    },
    {
      "cell_type": "code",
      "source": [],
      "metadata": {
        "id": "RG7JtRlICUBP"
      },
      "execution_count": null,
      "outputs": []
    }
  ]
}